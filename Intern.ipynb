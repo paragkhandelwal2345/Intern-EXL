{
  "nbformat": 4,
  "nbformat_minor": 0,
  "metadata": {
    "colab": {
      "name": "Intern.ipynb",
      "provenance": []
    },
    "kernelspec": {
      "name": "python3",
      "display_name": "Python 3"
    }
  },
  "cells": [
    {
      "cell_type": "code",
      "metadata": {
        "id": "ETy7SvcEMrwt",
        "colab_type": "code",
        "colab": {}
      },
      "source": [
        "import requests\n",
        "from bs4 import BeautifulSoup\n",
        "import numpy as np\n",
        "import pandas as pd\n"
      ],
      "execution_count": 1,
      "outputs": []
    },
    {
      "cell_type": "code",
      "metadata": {
        "id": "ITs2pViWNHWV",
        "colab_type": "code",
        "colab": {}
      },
      "source": [
        "links = []"
      ],
      "execution_count": 2,
      "outputs": []
    },
    {
      "cell_type": "code",
      "metadata": {
        "id": "n52wlZqLNhlW",
        "colab_type": "code",
        "colab": {}
      },
      "source": [
        "for i in range(1,51):\n",
        "  url = \"http://books.toscrape.com/catalogue/page-\"+str(i)+\".html\"\n",
        "  response = requests.get(url)\n",
        "  html = response.text\n",
        "  soup = BeautifulSoup(html,'html5lib')\n",
        "  link =soup.find_all(\"h3\")\n",
        "  link = list(link)\n",
        "  links = links + link"
      ],
      "execution_count": 4,
      "outputs": []
    },
    {
      "cell_type": "code",
      "metadata": {
        "id": "Zf2z2HKUN4KJ",
        "colab_type": "code",
        "colab": {}
      },
      "source": [
        "urls = []"
      ],
      "execution_count": 6,
      "outputs": []
    },
    {
      "cell_type": "code",
      "metadata": {
        "id": "ET-WogdDOFZb",
        "colab_type": "code",
        "colab": {}
      },
      "source": [
        "for link in links:\n",
        "  link = str(link)\n",
        "  start_index = link.find('href')+6\n",
        "  end_index = link.find('title')-2\n",
        "  link = link[start_index:end_index]\n",
        "  url = \"http://books.toscrape.com/catalogue/\"+link\n",
        "  urls.append(url)"
      ],
      "execution_count": 7,
      "outputs": []
    },
    {
      "cell_type": "code",
      "metadata": {
        "id": "uNqaaqNwUdtu",
        "colab_type": "code",
        "colab": {}
      },
      "source": [
        "titles = []\n",
        "upc = []\n",
        "category = []\n",
        "price_ex = []\n",
        "price_in = []\n",
        "tax = []\n",
        "availability = []\n",
        "reviews = []\n",
        "stars = []"
      ],
      "execution_count": 46,
      "outputs": []
    },
    {
      "cell_type": "code",
      "metadata": {
        "id": "TjTFsG-4U7TO",
        "colab_type": "code",
        "colab": {}
      },
      "source": [
        "for i in range(47):\n",
        "  url = urls[i]\n",
        "  response = requests.get(url)\n",
        "  html = response.text\n",
        "  soup = BeautifulSoup(html,'html5lib')\n",
        "  link = soup.find_all(\"p\",class_=\"star-rating\")\n",
        "  link = str(link)\n",
        "  s_p = link.find(\"rating\")\n",
        "  e_p = link.find(\">\")\n",
        "  star = link[s_p+7:e_p-1]\n",
        "  stars.append(star)\n",
        "  title = soup.find_all(\"h1\")\n",
        "  title = str(title)\n",
        "  title = title[5:-6]\n",
        "  titles.append(title)\n",
        "  details = soup.find_all(\"td\")\n",
        "  data = []\n",
        "  for detail in details:\n",
        "    detail = str(detail)\n",
        "    detail = detail[4:-5]\n",
        "    data.append(detail)\n",
        "  upc.append(data[0])\n",
        "  category.append(data[1])\n",
        "  price_ex.append(data[2][1:])\n",
        "  price_in.append(data[3][1:])\n",
        "  tax.append(data[4][1:])\n",
        "  availability.append(data[5])\n",
        "  reviews.append(data[6])"
      ],
      "execution_count": 48,
      "outputs": []
    },
    {
      "cell_type": "code",
      "metadata": {
        "id": "aKng1q2LUTPY",
        "colab_type": "code",
        "colab": {
          "base_uri": "https://localhost:8080/",
          "height": 35
        },
        "outputId": "61cdb190-30d8-43ae-86e1-a2e44e70bd20"
      },
      "source": [
        "len(stars)"
      ],
      "execution_count": 49,
      "outputs": [
        {
          "output_type": "execute_result",
          "data": {
            "text/plain": [
              "47"
            ]
          },
          "metadata": {
            "tags": []
          },
          "execution_count": 49
        }
      ]
    },
    {
      "cell_type": "code",
      "metadata": {
        "id": "nzYllOGAX57O",
        "colab_type": "code",
        "colab": {}
      },
      "source": [
        "for i in range(48,len(urls)):\n",
        "  url = urls[i]\n",
        "  response = requests.get(url)\n",
        "  html = response.text\n",
        "  soup = BeautifulSoup(html,'html5lib')\n",
        "  link = soup.find_all(\"p\",class_=\"star-rating\")\n",
        "  link = str(link)\n",
        "  s_p = link.find(\"rating\")\n",
        "  e_p = link.find(\">\")\n",
        "  star = link[s_p+7:e_p-1]\n",
        "  stars.append(star)\n",
        "  title = soup.find_all(\"h1\")\n",
        "  title = str(title)\n",
        "  title = title[5:-6]\n",
        "  titles.append(title)\n",
        "  details = soup.find_all(\"td\")\n",
        "  data = []\n",
        "  for detail in details:\n",
        "    detail = str(detail)\n",
        "    detail = detail[4:-5]\n",
        "    data.append(detail)\n",
        "  upc.append(data[0])\n",
        "  category.append(data[1])\n",
        "  price_ex.append(data[2][1:])\n",
        "  price_in.append(data[3][1:])\n",
        "  tax.append(data[4][1:])\n",
        "  availability.append(data[5])\n",
        "  reviews.append(data[6])"
      ],
      "execution_count": 50,
      "outputs": []
    },
    {
      "cell_type": "code",
      "metadata": {
        "id": "2wulfI4FX8LE",
        "colab_type": "code",
        "colab": {}
      },
      "source": [
        "df = pd.DataFrame(data={\"Title\": titles, \"UPC\": upc, \"Type\":category, \"Star Rating\":stars, \"Price (excl. tax)\":price_ex, \"Price (incl. tax)\":price_in, \"Tax\":tax, \"Availability\":availability, \"Number Of Reviews\":reviews  })"
      ],
      "execution_count": 54,
      "outputs": []
    },
    {
      "cell_type": "code",
      "metadata": {
        "id": "xhBDYSH2bII_",
        "colab_type": "code",
        "colab": {}
      },
      "source": [
        "df.to_csv('books_data.csv',index=False)"
      ],
      "execution_count": 55,
      "outputs": []
    },
    {
      "cell_type": "code",
      "metadata": {
        "id": "bBq_y5lLbJXs",
        "colab_type": "code",
        "colab": {
          "base_uri": "https://localhost:8080/",
          "height": 17
        },
        "outputId": "6b39db9d-d6a6-456b-e0f8-6ed596efbd88"
      },
      "source": [
        "from google.colab import files\n",
        "files.download('books_data.csv')"
      ],
      "execution_count": 57,
      "outputs": [
        {
          "output_type": "display_data",
          "data": {
            "application/javascript": [
              "\n",
              "    async function download(id, filename, size) {\n",
              "      if (!google.colab.kernel.accessAllowed) {\n",
              "        return;\n",
              "      }\n",
              "      const div = document.createElement('div');\n",
              "      const label = document.createElement('label');\n",
              "      label.textContent = `Downloading \"${filename}\": `;\n",
              "      div.appendChild(label);\n",
              "      const progress = document.createElement('progress');\n",
              "      progress.max = size;\n",
              "      div.appendChild(progress);\n",
              "      document.body.appendChild(div);\n",
              "\n",
              "      const buffers = [];\n",
              "      let downloaded = 0;\n",
              "\n",
              "      const channel = await google.colab.kernel.comms.open(id);\n",
              "      // Send a message to notify the kernel that we're ready.\n",
              "      channel.send({})\n",
              "\n",
              "      for await (const message of channel.messages) {\n",
              "        // Send a message to notify the kernel that we're ready.\n",
              "        channel.send({})\n",
              "        if (message.buffers) {\n",
              "          for (const buffer of message.buffers) {\n",
              "            buffers.push(buffer);\n",
              "            downloaded += buffer.byteLength;\n",
              "            progress.value = downloaded;\n",
              "          }\n",
              "        }\n",
              "      }\n",
              "      const blob = new Blob(buffers, {type: 'application/binary'});\n",
              "      const a = document.createElement('a');\n",
              "      a.href = window.URL.createObjectURL(blob);\n",
              "      a.download = filename;\n",
              "      div.appendChild(a);\n",
              "      a.click();\n",
              "      div.remove();\n",
              "    }\n",
              "  "
            ],
            "text/plain": [
              "<IPython.core.display.Javascript object>"
            ]
          },
          "metadata": {
            "tags": []
          }
        },
        {
          "output_type": "display_data",
          "data": {
            "application/javascript": [
              "download(\"download_88581456-4c56-46cf-a927-0afdca4fbd54\", \"books_data.csv\", 116705)"
            ],
            "text/plain": [
              "<IPython.core.display.Javascript object>"
            ]
          },
          "metadata": {
            "tags": []
          }
        }
      ]
    },
    {
      "cell_type": "code",
      "metadata": {
        "id": "C9sfikHedROF",
        "colab_type": "code",
        "colab": {}
      },
      "source": [
        ""
      ],
      "execution_count": null,
      "outputs": []
    }
  ]
}