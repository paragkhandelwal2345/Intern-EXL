{
 "cells": [
  {
   "cell_type": "markdown",
   "metadata": {},
   "source": [
    "# E commerce web scraping using selenium"
   ]
  },
  {
   "cell_type": "code",
   "execution_count": null,
   "metadata": {},
   "outputs": [],
   "source": [
    "from selenium import webdriver\n",
    "browser = webdriver.Chrome(\"chromedriver.exe\")\n",
    "types = ['computers/laptops','computers/tablets','phones/touch']\n",
    "\n",
    "for j in range(len(types)):\n",
    "\n",
    "    url = \"https://webscraper.io/test-sites/e-commerce/more/\" + types[j]\n",
    "    browser.get(url)\n",
    "    nex = browser.find_element_by_css_selector(\"a.btn.btn-primary.btn-lg.btn-block.ecomerce-items-scroll-more\")\n",
    "    for k in range(20):\n",
    "        try:\n",
    "            nex.click()\n",
    "        except:\n",
    "            break\n",
    "\n",
    "    title = browser.find_elements_by_css_selector(\"a.title\")\n",
    "    ti = [t.text for t in title]\n",
    "    titles = titles + ti\n",
    "\n",
    "    descript = browser.find_elements_by_css_selector(\"p.description\")\n",
    "    description = [d.text for d in descript]\n",
    "    descriptions = descriptions + description\n",
    "    \n",
    "\n",
    "    pri = browser.find_elements_by_css_selector(\"h4.pull-right.price\")\n",
    "    price = [p.text for p in pri]\n",
    "    prices = prices + price\n",
    "\n",
    "\n",
    "    for i in range(len(price)):\n",
    "        end_index = types[j].find('/') \n",
    "        category.append(types[j][:end_index])\n",
    "        start_index = end_index + 1\n",
    "        sub_category.append(types[j][end_index:])\n",
    "        \n",
    "df = pd.DataFrame(data={\"Title\": titles, \n",
    "                        \"Type\": category, \n",
    "                        \"Sub Type\": sub_category, \n",
    "                        \"Price\": prices, \n",
    "                        \"Description\": descriptions})\n",
    "\n",
    "df.to_csv('E-commerce web scraping using Selenium.csv', \n",
    "          index=False)"
   ]
  }
 ],
 "metadata": {
  "kernelspec": {
   "display_name": "Python 3",
   "language": "python",
   "name": "python3"
  },
  "language_info": {
   "codemirror_mode": {
    "name": "ipython",
    "version": 3
   },
   "file_extension": ".py",
   "mimetype": "text/x-python",
   "name": "python",
   "nbconvert_exporter": "python",
   "pygments_lexer": "ipython3",
   "version": "3.6.10"
  }
 },
 "nbformat": 4,
 "nbformat_minor": 2
}
