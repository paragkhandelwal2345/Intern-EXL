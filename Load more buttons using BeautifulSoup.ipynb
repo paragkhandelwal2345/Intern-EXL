{
  "nbformat": 4,
  "nbformat_minor": 0,
  "metadata": {
    "colab": {
      "name": "E-commerce web scraping using BeautifulSoup.ipynb",
      "provenance": []
    },
    "kernelspec": {
      "name": "python3",
      "display_name": "Python 3"
    }
  },
  "cells": [
    {
      "cell_type": "code",
      "metadata": {
        "id": "QCPB3yysyaY-",
        "colab_type": "code",
        "colab": {}
      },
      "source": [
        "import requests\n",
        "from bs4 import BeautifulSoup\n",
        "import pandas as pd\n",
        "from google.colab import files"
      ],
      "execution_count": 67,
      "outputs": []
    },
    {
      "cell_type": "markdown",
      "metadata": {
        "id": "3UZvgSu8xlqT",
        "colab_type": "text"
      },
      "source": [
        "Load more button type web scraping"
      ]
    },
    {
      "cell_type": "code",
      "metadata": {
        "id": "hZW7Pg1hwPDQ",
        "colab_type": "code",
        "colab": {}
      },
      "source": [
        "types = ['computers/laptops','computers/tablets','phones/touch']"
      ],
      "execution_count": 68,
      "outputs": []
    },
    {
      "cell_type": "code",
      "metadata": {
        "id": "d__4gf8x9r7z",
        "colab_type": "code",
        "colab": {}
      },
      "source": [
        "category = []\n",
        "sub_category = []\n",
        "ids = []\n",
        "titles = []\n",
        "descriptions = []\n",
        "prices = []"
      ],
      "execution_count": 69,
      "outputs": []
    },
    {
      "cell_type": "markdown",
      "metadata": {
        "id": "Eqq8JSOlF7Sw",
        "colab_type": "text"
      },
      "source": [
        "When ID = 'dat' means wrong data entry"
      ]
    },
    {
      "cell_type": "code",
      "metadata": {
        "id": "64suRAgi-K6h",
        "colab_type": "code",
        "colab": {}
      },
      "source": [
        "for j in range(len(types)):\n",
        "    url = \"https://webscraper.io/test-sites/e-commerce/more/\" + types[j]\n",
        "    response = requests.get(url)\n",
        "    html = response.text\n",
        "    soup = BeautifulSoup(html,\"html5lib\")\n",
        "    div = soup.find_all(\"div\", {\"class\": \"row ecomerce-items ecomerce-items-more\"})\n",
        "    div = str(div)\n",
        "    div = div.split(\"}\")\n",
        "\n",
        "    for i in range(len(div)):\n",
        "        line = div[i]\n",
        "        start_index = line.find('id') + 4\n",
        "        end_index = start_index + 3\n",
        "        id = line[start_index:end_index]\n",
        "        if id == 'dat':\n",
        "            continue\n",
        "        else:\n",
        "            ids.append(id)\n",
        "\n",
        "        start_index = line.find('title') + 8\n",
        "        end_index = line.find(\":\",start_index) - 15\n",
        "        title = line[start_index:end_index]\n",
        "        titles.append(title)\n",
        "\n",
        "        start_index = line.find('description') + 14\n",
        "        end_index = line.find(\":\",start_index) - 9\n",
        "        description = line[start_index:end_index]\n",
        "        descriptions.append(description)\n",
        "\n",
        "        start_index = line.find('price') + 8\n",
        "        end_index = line.find(\",\",start_index) \n",
        "        price = line[start_index:end_index]\n",
        "        prices.append(price)\n",
        "\n",
        "        end_index = types[j].find('/') \n",
        "        category.append(types[j][:end_index])\n",
        "\n",
        "        start_index = end_index + 1\n",
        "        sub_category.append(types[j][end_index:])"
      ],
      "execution_count": 70,
      "outputs": []
    },
    {
      "cell_type": "code",
      "metadata": {
        "id": "VBPpW7FnGbv-",
        "colab_type": "code",
        "colab": {}
      },
      "source": [
        "df = pd.DataFrame(data={\"Title\": titles, \n",
        "                        \"Type\": category, \n",
        "                        \"Sub Type\": sub_category, \n",
        "                        \"Price\": prices, \n",
        "                        \"Description\": descriptions, \n",
        "                        \"ID\": ids})"
      ],
      "execution_count": 71,
      "outputs": []
    },
    {
      "cell_type": "code",
      "metadata": {
        "id": "9QUgkZcUHP6c",
        "colab_type": "code",
        "colab": {}
      },
      "source": [
        "df.to_csv('E-commerce web scraping using BeautifulSoup.csv', \n",
        "          index=False)"
      ],
      "execution_count": 72,
      "outputs": []
    },
    {
      "cell_type": "code",
      "metadata": {
        "id": "OygJuVSCHru_",
        "colab_type": "code",
        "colab": {
          "base_uri": "https://localhost:8080/",
          "height": 17
        },
        "outputId": "c0b62bc7-f496-425e-8aa4-1c79aa85290e"
      },
      "source": [
        "files.download('E-commerce web scraping using BeautifulSoup.csv')"
      ],
      "execution_count": 73,
      "outputs": [
        {
          "output_type": "display_data",
          "data": {
            "application/javascript": [
              "\n",
              "    async function download(id, filename, size) {\n",
              "      if (!google.colab.kernel.accessAllowed) {\n",
              "        return;\n",
              "      }\n",
              "      const div = document.createElement('div');\n",
              "      const label = document.createElement('label');\n",
              "      label.textContent = `Downloading \"${filename}\": `;\n",
              "      div.appendChild(label);\n",
              "      const progress = document.createElement('progress');\n",
              "      progress.max = size;\n",
              "      div.appendChild(progress);\n",
              "      document.body.appendChild(div);\n",
              "\n",
              "      const buffers = [];\n",
              "      let downloaded = 0;\n",
              "\n",
              "      const channel = await google.colab.kernel.comms.open(id);\n",
              "      // Send a message to notify the kernel that we're ready.\n",
              "      channel.send({})\n",
              "\n",
              "      for await (const message of channel.messages) {\n",
              "        // Send a message to notify the kernel that we're ready.\n",
              "        channel.send({})\n",
              "        if (message.buffers) {\n",
              "          for (const buffer of message.buffers) {\n",
              "            buffers.push(buffer);\n",
              "            downloaded += buffer.byteLength;\n",
              "            progress.value = downloaded;\n",
              "          }\n",
              "        }\n",
              "      }\n",
              "      const blob = new Blob(buffers, {type: 'application/binary'});\n",
              "      const a = document.createElement('a');\n",
              "      a.href = window.URL.createObjectURL(blob);\n",
              "      a.download = filename;\n",
              "      div.appendChild(a);\n",
              "      a.click();\n",
              "      div.remove();\n",
              "    }\n",
              "  "
            ],
            "text/plain": [
              "<IPython.core.display.Javascript object>"
            ]
          },
          "metadata": {
            "tags": []
          }
        },
        {
          "output_type": "display_data",
          "data": {
            "application/javascript": [
              "download(\"download_796b8e0c-544b-4431-9c19-d9b7b5e6959b\", \"E-commerce web scraping using BeautifulSoup.csv\", 19904)"
            ],
            "text/plain": [
              "<IPython.core.display.Javascript object>"
            ]
          },
          "metadata": {
            "tags": []
          }
        }
      ]
    },
    {
      "cell_type": "code",
      "metadata": {
        "id": "q-zjsDeoHyej",
        "colab_type": "code",
        "colab": {}
      },
      "source": [
        ""
      ],
      "execution_count": null,
      "outputs": []
    }
  ]
}