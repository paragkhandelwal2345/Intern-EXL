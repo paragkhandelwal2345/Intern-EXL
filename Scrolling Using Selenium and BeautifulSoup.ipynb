{
 "cells": [
  {
   "cell_type": "code",
   "execution_count": 72,
   "metadata": {
    "collapsed": false
   },
   "outputs": [],
   "source": [
    "from selenium import webdriver\n",
    "from bs4 import BeautifulSoup\n",
    "import pandas as pd"
   ]
  },
  {
   "cell_type": "code",
   "execution_count": 58,
   "metadata": {
    "collapsed": true
   },
   "outputs": [],
   "source": [
    "browser = webdriver.Chrome(\"chromedriver.exe\")"
   ]
  },
  {
   "cell_type": "code",
   "execution_count": 66,
   "metadata": {
    "collapsed": true
   },
   "outputs": [],
   "source": [
    "category = []\n",
    "sub_category = []\n",
    "ids = []\n",
    "titles = []\n",
    "descriptions = []\n",
    "prices = []"
   ]
  },
  {
   "cell_type": "code",
   "execution_count": 67,
   "metadata": {
    "collapsed": false
   },
   "outputs": [],
   "source": [
    "types = ['computers/laptops','computers/tablets','phones/touch']\n",
    "for j in range(len(types)):\n",
    "    url = \"https://webscraper.io/test-sites/e-commerce/scroll/\" + types[j]\n",
    "    browser.get(url)\n",
    "    pageSource = browser.page_source\n",
    "    browser.execute_script(\"window.scrollTo(0, document.body.scrollHeight);\")\n",
    "    soup = BeautifulSoup(pageSource, 'html5lib')\n",
    "    div = soup.find_all(\"div\", {\"class\": \"ecomerce-items-scroll\"})\n",
    "    div = str(div)\n",
    "    div = div.split(\"}\")\n",
    "\n",
    "    for i in range(len(div)):\n",
    "        line = div[i]\n",
    "        start_index = line.find('id') + 4\n",
    "        end_index = start_index + 3\n",
    "        id = line[start_index:end_index]\n",
    "        if ((id == 'p><') or (id == '.0<') or (id == 'dat')) :\n",
    "            continue\n",
    "        else:\n",
    "            ids.append(id)\n",
    "\n",
    "        start_index = line.find('title') + 8\n",
    "        end_index = line.find(\":\",start_index) - 15\n",
    "        title = line[start_index:end_index]\n",
    "        titles.append(title)\n",
    "\n",
    "        start_index = line.find('description') + 14\n",
    "        end_index = line.find(\":\",start_index) - 9\n",
    "        description = line[start_index:end_index]\n",
    "        descriptions.append(description)\n",
    "\n",
    "        start_index = line.find('price') + 8\n",
    "        end_index = line.find(\",\",start_index) \n",
    "        price = line[start_index:end_index]\n",
    "        prices.append(price)\n",
    "\n",
    "        end_index = types[j].find('/') \n",
    "        category.append(types[j][:end_index])\n",
    "\n",
    "        start_index = end_index + 1\n",
    "        sub_category.append(types[j][end_index:])"
   ]
  },
  {
   "cell_type": "code",
   "execution_count": 73,
   "metadata": {
    "collapsed": false
   },
   "outputs": [],
   "source": [
    "df = pd.DataFrame(data={\"Title\": titles, \n",
    "                        \"Type\": category, \n",
    "                        \"Sub Type\": sub_category, \n",
    "                        \"Price\": prices, \n",
    "                        \"Description\": descriptions, \n",
    "                        \"ID\": ids})"
   ]
  },
  {
   "cell_type": "code",
   "execution_count": 74,
   "metadata": {
    "collapsed": true
   },
   "outputs": [],
   "source": [
    "df.to_csv('E-commerce web scraping scrolling using BeautifulSoup and selenium.csv', \n",
    "          index=False)"
   ]
  },
  {
   "cell_type": "code",
   "execution_count": null,
   "metadata": {
    "collapsed": true
   },
   "outputs": [],
   "source": []
  }
 ],
 "metadata": {
  "kernelspec": {
   "display_name": "Python 3",
   "language": "python",
   "name": "python3"
  },
  "language_info": {
   "codemirror_mode": {
    "name": "ipython",
    "version": 3
   },
   "file_extension": ".py",
   "mimetype": "text/x-python",
   "name": "python",
   "nbconvert_exporter": "python",
   "pygments_lexer": "ipython3",
   "version": "3.5.2"
  }
 },
 "nbformat": 4,
 "nbformat_minor": 2
}
