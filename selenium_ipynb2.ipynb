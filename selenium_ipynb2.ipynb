{
 "cells": [
  {
   "cell_type": "markdown",
   "metadata": {
    "deletable": true,
    "editable": true
   },
   "source": [
    "# Welcome to Jupyter!"
   ]
  },
  {
   "cell_type": "code",
   "execution_count": null,
   "metadata": {
    "collapsed": true,
    "deletable": true,
    "editable": true
   },
   "outputs": [],
   "source": [
    "import requests\n",
    "from bs4 import BeautifulSoup\n",
    "from selenium import webdriver\n",
    "import pandas as pd\n",
    "\n",
    "links = []\n",
    "for i in range(1,51):\n",
    "    url = \"http://books.toscrape.com/catalogue/page-\" + str(i) + \".html\"\n",
    "    response = requests.get(url)\n",
    "    html = response.text\n",
    "    soup = BeautifulSoup(html, 'html5lib')\n",
    "    link =soup.find_all(\"h3\")\n",
    "    link = list(link)\n",
    "    links = links + link\n",
    "    \n",
    "urls = []\n",
    "for link in links:\n",
    "    link = str(link)\n",
    "    start_index = link.find('href') + 6\n",
    "    end_index = link.find('title') - 2\n",
    "    link = link[start_index:end_index]\n",
    "    url = \"http://books.toscrape.com/catalogue/\" + link\n",
    "    urls.append(url)\n",
    "    \n",
    "titles = []\n",
    "upc = []\n",
    "category = []\n",
    "price_ex = []\n",
    "price_in = []\n",
    "tax = []\n",
    "availability = []\n",
    "reviews = []\n",
    "\n",
    "for i in range(47):\n",
    "    url = urls[i]\n",
    "    browser.get(url)\n",
    "    data = browser.find_elements_by_css_selector(\"td\")\n",
    "    details = [d.text for d in data]\n",
    "    upc.append(details[0])\n",
    "    category.append(details[1])\n",
    "    price_ex.append(details[2])\n",
    "    price_in.append(details[3])\n",
    "    tax.append(details[4])\n",
    "    availability.append(details[5])\n",
    "    reviews.append(details[6])\n",
    "    title = browser.find_elements_by_css_selector(\"h1\")\n",
    "    title = [t.text for t in title]\n",
    "    titles.append(title[0])\n",
    "    \n",
    "for i in range(48,len(urls)):\n",
    "    url = urls[i]\n",
    "    browser.get(url)\n",
    "    data = browser.find_elements_by_css_selector(\"td\")\n",
    "    details = [d.text for d in data]\n",
    "    upc.append(details[0])\n",
    "    category.append(details[1])\n",
    "    price_ex.append(details[2])\n",
    "    price_in.append(details[3])\n",
    "    tax.append(details[4])\n",
    "    availability.append(details[5])\n",
    "    reviews.append(details[6])\n",
    "    title = browser.find_elements_by_css_selector(\"h1\")\n",
    "    title = [t.text for t in title]\n",
    "    titles.append(title[0])\n",
    "    \n",
    "df = pd.DataFrame(data={\"Title\": titles, \n",
    "                        \"UPC\": upc, \n",
    "                        \"Type\": category, \n",
    "                        \"Price (excl. tax)\": price_ex, \n",
    "                        \"Price (incl. tax)\": price_in, \n",
    "                        \"Tax\": tax, \n",
    "                        \"Availability\": availability, \n",
    "                        \"Number Of Reviews\": reviews})\n",
    "\n"
   ]
  }
 ],
 "metadata": {
  "kernelspec": {
   "display_name": "Python 3",
   "language": "python",
   "name": "python3"
  },
  "language_info": {
   "codemirror_mode": {
    "name": "ipython",
    "version": 3
   },
   "file_extension": ".py",
   "mimetype": "text/x-python",
   "name": "python",
   "nbconvert_exporter": "python",
   "pygments_lexer": "ipython3",
   "version": "3.5.2"
  }
 },
 "nbformat": 4,
 "nbformat_minor": 2
}
