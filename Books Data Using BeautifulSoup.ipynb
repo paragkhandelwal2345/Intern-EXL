{
 "cells": [
  {
   "cell_type": "code",
   "execution_count": 2,
   "metadata": {
    "colab": {},
    "colab_type": "code",
    "collapsed": true,
    "deletable": true,
    "editable": true,
    "id": "ETy7SvcEMrwt"
   },
   "outputs": [],
   "source": [
    "import requests\n",
    "from bs4 import BeautifulSoup\n",
    "import numpy as np\n",
    "import pandas as pd"
   ]
  },
  {
   "cell_type": "code",
   "execution_count": 3,
   "metadata": {
    "colab": {},
    "colab_type": "code",
    "collapsed": true,
    "deletable": true,
    "editable": true,
    "id": "ITs2pViWNHWV"
   },
   "outputs": [],
   "source": [
    "links = [] "
   ]
  },
  {
   "cell_type": "code",
   "execution_count": 4,
   "metadata": {
    "colab": {},
    "colab_type": "code",
    "collapsed": true,
    "deletable": true,
    "editable": true,
    "id": "n52wlZqLNhlW"
   },
   "outputs": [],
   "source": [
    "for i in range(1,51):\n",
    "    url = (\"http://books.toscrape.com/catalogue/page-\" + str(i) + \".html\")\n",
    "    response = requests.get(url)\n",
    "    html = response.text\n",
    "    soup = BeautifulSoup(html, 'html5lib')\n",
    "    link = soup.find_all(\"h3\")\n",
    "    link = list(link)\n",
    "    links = links + link"
   ]
  },
  {
   "cell_type": "code",
   "execution_count": 5,
   "metadata": {
    "colab": {},
    "colab_type": "code",
    "collapsed": true,
    "deletable": true,
    "editable": true,
    "id": "Zf2z2HKUN4KJ"
   },
   "outputs": [],
   "source": [
    "urls = [] "
   ]
  },
  {
   "cell_type": "code",
   "execution_count": 6,
   "metadata": {
    "colab": {},
    "colab_type": "code",
    "collapsed": true,
    "deletable": true,
    "editable": true,
    "id": "ET-WogdDOFZb"
   },
   "outputs": [],
   "source": [
    "for link in links:\n",
    "    link = str(link)\n",
    "    start_index = link.find('href') + 6\n",
    "    end_index = link.find('title') - 2\n",
    "    link = link[start_index:end_index]\n",
    "    url = (\"http://books.toscrape.com/catalogue/\" + link)\n",
    "    urls.append(url)"
   ]
  },
  {
   "cell_type": "code",
   "execution_count": 7,
   "metadata": {
    "colab": {},
    "colab_type": "code",
    "collapsed": true,
    "deletable": true,
    "editable": true,
    "id": "uNqaaqNwUdtu"
   },
   "outputs": [],
   "source": [
    "titles = []\n",
    "upc = []\n",
    "category = []\n",
    "price_ex = []\n",
    "price_in = []\n",
    "tax = []\n",
    "availability = []\n",
    "reviews = []\n",
    "stars = []"
   ]
  },
  {
   "cell_type": "code",
   "execution_count": 8,
   "metadata": {
    "colab": {},
    "colab_type": "code",
    "collapsed": true,
    "deletable": true,
    "editable": true,
    "id": "TjTFsG-4U7TO"
   },
   "outputs": [],
   "source": [
    "#Leaving i = 47 as i = 47 is bad data entry\n",
    "for i in range(47):\n",
    "    url = urls[i]\n",
    "    response = requests.get(url)\n",
    "    html = response.text\n",
    "    soup = BeautifulSoup(html, 'html5lib')\n",
    "    link = soup.find_all(\"p\", class_=\"star-rating\")\n",
    "    link = str(link)\n",
    "    s_p = link.find(\"rating\")\n",
    "    e_p = link.find(\">\")\n",
    "    star = link[s_p+7 : e_p-1]\n",
    "    stars.append(star)\n",
    "\n",
    "    title = soup.find_all(\"h1\")\n",
    "    title = str(title)\n",
    "    title = title[5:-6]\n",
    "    titles.append(title)\n",
    "\n",
    "    details = soup.find_all(\"td\")\n",
    "    data = []\n",
    "    for detail in details:\n",
    "        detail = str(detail)\n",
    "        detail = detail[4:-5]\n",
    "        data.append(detail)\n",
    "    upc.append(data[0])\n",
    "    category.append(data[1])\n",
    "    price_ex.append(data[2][1:])\n",
    "    price_in.append(data[3][1:])\n",
    "    tax.append(data[4][1:])\n",
    "    availability.append(data[5])\n",
    "    reviews.append(data[6])"
   ]
  },
  {
   "cell_type": "code",
   "execution_count": 9,
   "metadata": {
    "colab": {},
    "colab_type": "code",
    "collapsed": true,
    "deletable": true,
    "editable": true,
    "id": "nzYllOGAX57O"
   },
   "outputs": [],
   "source": [
    "for i in range(48,len(urls)):\n",
    "    url = urls[i]\n",
    "    response = requests.get(url)\n",
    "    html = response.text\n",
    "    soup = BeautifulSoup(html, 'html5lib')\n",
    "    link = soup.find_all(\"p\", class_=\"star-rating\")\n",
    "    link = str(link)\n",
    "    s_p = link.find(\"rating\")\n",
    "    e_p = link.find(\">\")\n",
    "    star = link[s_p+7 : e_p-1]\n",
    "    stars.append(star)\n",
    "\n",
    "    title = soup.find_all(\"h1\")\n",
    "    title = str(title)\n",
    "    title = title[5:-6]\n",
    "    titles.append(title)\n",
    "  \n",
    "    details = soup.find_all(\"td\")\n",
    "    data = []\n",
    "    for detail in details:\n",
    "        detail = str(detail)\n",
    "        detail = detail[4:-5]\n",
    "        data.append(detail)\n",
    "    upc.append(data[0])\n",
    "    category.append(data[1])\n",
    "    price_ex.append(data[2][1:])\n",
    "    price_in.append(data[3][1:])\n",
    "    tax.append(data[4][1:])\n",
    "    availability.append(data[5])\n",
    "    reviews.append(data[6])"
   ]
  },
  {
   "cell_type": "code",
   "execution_count": 10,
   "metadata": {
    "colab": {},
    "colab_type": "code",
    "collapsed": true,
    "deletable": true,
    "editable": true,
    "id": "2wulfI4FX8LE"
   },
   "outputs": [],
   "source": [
    "df = pd.DataFrame(data={\"Title\": titles, \"UPC\": upc, \n",
    "                        \"Type\": category, \"Star Rating\": stars, \n",
    "                        \"Price (excl. tax)\": price_ex, \n",
    "                        \"Price (incl. tax)\": price_in, \n",
    "                        \"Tax\": tax, \n",
    "                        \"Availability\": availability, \n",
    "                        \"Number Of Reviews\": reviews})"
   ]
  },
  {
   "cell_type": "code",
   "execution_count": 11,
   "metadata": {
    "colab": {},
    "colab_type": "code",
    "collapsed": true,
    "deletable": true,
    "editable": true,
    "id": "xhBDYSH2bII_"
   },
   "outputs": [],
   "source": [
    "df.to_csv('books_data.csv', \n",
    "          index=False)"
   ]
  }
 ],
 "metadata": {
  "colab": {
   "name": "Intern1.ipynb",
   "provenance": []
  },
  "kernelspec": {
   "display_name": "Python 3",
   "language": "python",
   "name": "python3"
  },
  "language_info": {
   "codemirror_mode": {
    "name": "ipython",
    "version": 3
   },
   "file_extension": ".py",
   "mimetype": "text/x-python",
   "name": "python",
   "nbconvert_exporter": "python",
   "pygments_lexer": "ipython3",
   "version": "3.5.2"
  }
 },
 "nbformat": 4,
 "nbformat_minor": 0
}
