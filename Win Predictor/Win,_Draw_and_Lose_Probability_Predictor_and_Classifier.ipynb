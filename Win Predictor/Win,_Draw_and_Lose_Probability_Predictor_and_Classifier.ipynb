{
  "nbformat": 4,
  "nbformat_minor": 0,
  "metadata": {
    "colab": {
      "name": "Win, Draw and Lose Probability Predictor and Classifier.ipynb",
      "provenance": []
    },
    "kernelspec": {
      "name": "python3",
      "display_name": "Python 3"
    }
  },
  "cells": [
    {
      "cell_type": "code",
      "metadata": {
        "id": "CE5PCD9pN2pp",
        "colab_type": "code",
        "colab": {
          "resources": {
            "http://localhost:8080/nbextensions/google.colab/files.js": {
              "data": "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",
              "ok": true,
              "headers": [
                [
                  "content-type",
                  "application/javascript"
                ]
              ],
              "status": 200,
              "status_text": ""
            }
          },
          "base_uri": "https://localhost:8080/",
          "height": 73
        },
        "outputId": "3eb230bb-806b-4d45-90e3-0574481e8537"
      },
      "source": [
        "from google.colab import files\n",
        "uploades = files.upload()"
      ],
      "execution_count": null,
      "outputs": [
        {
          "output_type": "display_data",
          "data": {
            "text/html": [
              "\n",
              "     <input type=\"file\" id=\"files-6b1a74c5-02e0-42da-98f3-2220152752e5\" name=\"files[]\" multiple disabled\n",
              "        style=\"border:none\" />\n",
              "     <output id=\"result-6b1a74c5-02e0-42da-98f3-2220152752e5\">\n",
              "      Upload widget is only available when the cell has been executed in the\n",
              "      current browser session. Please rerun this cell to enable.\n",
              "      </output>\n",
              "      <script src=\"/nbextensions/google.colab/files.js\"></script> "
            ],
            "text/plain": [
              "<IPython.core.display.HTML object>"
            ]
          },
          "metadata": {
            "tags": []
          }
        },
        {
          "output_type": "stream",
          "text": [
            "Saving Total_Data.xlsx to Total_Data.xlsx\n"
          ],
          "name": "stdout"
        }
      ]
    },
    {
      "cell_type": "code",
      "metadata": {
        "id": "vdGbIJL8oCLY",
        "colab_type": "code",
        "colab": {}
      },
      "source": [
        "import numpy as np\n",
        "import pandas as pd\n",
        "from sklearn.model_selection import train_test_split\n",
        "from sklearn.neighbors import KNeighborsClassifier\n",
        "from sklearn.svm import LinearSVC\n",
        "from sklearn.utils import shuffle\n",
        "from sklearn.neighbors import KNeighborsRegressor\n",
        "from sklearn.preprocessing import PolynomialFeatures\n",
        "from sklearn.linear_model import Ridge"
      ],
      "execution_count": 265,
      "outputs": []
    },
    {
      "cell_type": "markdown",
      "metadata": {
        "id": "oVjnGa6sjqZV",
        "colab_type": "text"
      },
      "source": [
        "Below DataFrame consists all the data entries of Premier League between 2003 - \n",
        "2019"
      ]
    },
    {
      "cell_type": "code",
      "metadata": {
        "id": "Sof4wjG0thCh",
        "colab_type": "code",
        "colab": {}
      },
      "source": [
        "df = pd.read_excel('Total_Data.xlsx') "
      ],
      "execution_count": 266,
      "outputs": []
    },
    {
      "cell_type": "markdown",
      "metadata": {
        "id": "b5bW6Ur6vqKM",
        "colab_type": "text"
      },
      "source": [
        "Functions"
      ]
    },
    {
      "cell_type": "code",
      "metadata": {
        "id": "E64L5yPsCWFp",
        "colab_type": "code",
        "colab": {}
      },
      "source": [
        "# Gives us the dataframe of team a_vs_team b for all past years\n",
        "def a_vs_b(a,b):\n",
        "    options = [a,b]\n",
        "    a_b = df[df['Home Team'].isin(options)]\n",
        "    a_b = a_b[a_b['Away Team'].isin(options)]\n",
        "    a_b = pd.DataFrame(a_b)\n",
        "    a_b.loc[((a_b['Home Team'] == a) & (a_b['FTR'] == 'H')) | ((a_b['Away Team'] == a) & (a_b['FTR'] == 'A')), 'Win_Value_a'] = 1\n",
        "    a_b.loc[((a_b['Home Team'] == a) & (a_b['FTR'] == 'A')) | ((a_b['Away Team'] == a) & (a_b['FTR'] == 'H')), 'Win_Value_a'] = 0\n",
        "    a_b.loc[((a_b['Home Team'] == b) & (a_b['FTR'] == 'H')) | ((a_b['Away Team'] == b) & (a_b['FTR'] == 'A')), 'Win_Value_b'] = 1\n",
        "    a_b.loc[((a_b['Home Team'] == b) & (a_b['FTR'] == 'A')) | ((a_b['Away Team'] == b) & (a_b['FTR'] == 'H')), 'Win_Value_b'] = 0\n",
        "    a_b = a_b.fillna(0.5) \n",
        "\n",
        "    # Home Team(a) value is 1 and away team(b) is 0\n",
        "    a_b.loc[a_b['Home Team'] == a,'Home Team'] = 1 \n",
        "    a_b.loc[a_b['Away Team'] == a,'Away Team'] = 1\n",
        "    a_b.loc[a_b['Home Team'] == b,'Home Team'] = 0\n",
        "    a_b.loc[a_b['Away Team'] == b,'Away Team'] = 0\n",
        "    return a_b\n",
        "\n",
        "# Gives us the dataframe of team_vs_all for all past years\n",
        "def team_vs_all(team):\n",
        "    options = [team]\n",
        "    team_all = df[df['Home Team'].isin(options) | df['Away Team'].isin(options)]\n",
        "\n",
        "    #If team a wins then Win_Value = 1, if loses then 0, if draw then 0.5  \n",
        "    team_all = pd.DataFrame(team_all)\n",
        "    team_all.loc[((team_all['Home Team'] == team) & (team_all['FTR'] == 'H')) | ((team_all['Away Team'] == team) & (team_all['FTR'] == 'A')), 'Win_Value'] = 1\n",
        "    team_all.loc[((team_all['Home Team'] == team) & (team_all['FTR'] == 'A')) | ((team_all['Away Team'] == team) & (team_all['FTR'] == 'H')), 'Win_Value'] = 0\n",
        "    team_all = team_all.fillna(0.5)\n",
        "    return team_all\n",
        "\n",
        "# Gives us the dataframe of all the home matches of a team\n",
        "def home_matches(team):\n",
        "    options = [team]\n",
        "    home_all = df[df['Home Team'].isin(options)]\n",
        "    home_all = pd.DataFrame(home_all)\n",
        "    home_all.loc[((home_all['Home Team'] == team) & (home_all['FTR'] == 'H')), 'Home_Win_Value'] = 1\n",
        "    home_all.loc[((home_all['Home Team'] == team) & (home_all['FTR'] == 'A')), 'Home_Win_Value'] = 0\n",
        "    home_all = home_all.fillna(0.5) \n",
        "    return home_all\n",
        "\n",
        "# Gives us the dataframe of all the away matches of a team\n",
        "def away_matches(team):\n",
        "    options = [team]\n",
        "    away_all = df[df['Away Team'].isin(options)]\n",
        "    away_all = pd.DataFrame(away_all)\n",
        "    away_all.loc[((away_all['Away Team'] == team) & (away_all['FTR'] == 'H')), 'Away_Win_Value'] = 0\n",
        "    away_all.loc[((away_all['Away Team'] == team) & (away_all['FTR'] == 'A')), 'Away_Win_Value'] = 1\n",
        "    away_all = away_all.fillna(0.5) \n",
        "    return away_all\n",
        "\n",
        "# Multi class classification (Win, Lose, Draw) \n",
        "def multiclassification(X,y,x,a,b):\n",
        "    X_train, X_test, y_train, y_test = train_test_split(X, y, test_size=0.3, random_state=0)\n",
        "\n",
        "    knn = KNeighborsClassifier(n_neighbors = 5)\n",
        "    knn.fit(X_train, y_train)\n",
        "    ans1 = knn.score(X_test,y_test)\n",
        "    \n",
        "    clf = LinearSVC().fit(X_train, y_train)\n",
        "    ans2 = clf.score(X_test,y_test)\n",
        "\n",
        "    X, y = shuffle(X, y, random_state=0)\n",
        "    if ans1>ans2:\n",
        "        knn.fit(X, y)\n",
        "        print(\"Test accuracy :\", ans1)\n",
        "        ans = knn.predict(x)\n",
        "    else:\n",
        "        clf = LinearSVC().fit(X, y)\n",
        "        print(\"Test accuracy :\", ans2)\n",
        "        ans = clf.predict(x)\n",
        "    \n",
        "    if ans == 0 :\n",
        "        print(b,\"Wins\")\n",
        "    if ans == 1 :\n",
        "        print(a,\"Wins\")\n",
        "    if ans == 2 :\n",
        "        print(\"Draw\")\n",
        "\n",
        "# Regression of Home Win Probability\n",
        "def regression_home(X,y,x,a):\n",
        "    X_train, X_test, y_train, y_test1 = train_test_split(X, y, test_size=0.2, random_state = 0)\n",
        "    knnreg = KNeighborsRegressor(n_neighbors = 5).fit(X_train, y_train)\n",
        "    error1 = np.sum(abs(knnreg.predict(X_test) - y_test1))\n",
        "\n",
        "    poly = PolynomialFeatures(degree=2)\n",
        "    X_poly = poly.fit_transform(X)\n",
        "    X_train, X_test, y_train, y_test2 = train_test_split(X_poly, y, test_size=0.2, random_state = 0)\n",
        "    linreg = Ridge().fit(X_train, y_train)\n",
        "    error2 = np.sum(abs(linreg.predict(X_test) - y_test2))\n",
        "    \n",
        "    X, y = shuffle(X, y, random_state=0)\n",
        "    if error1['HP'] > error2['HP']:\n",
        "        linreg = Ridge().fit(X, y)\n",
        "        ans = linreg.predict(x)\n",
        "    else:\n",
        "        knnreg = KNeighborsRegressor(n_neighbors = 5).fit(X, y)\n",
        "        ans = knnreg.predict(x)\n",
        "    return float(ans)\n",
        "    \n",
        "# Regression of Away Win Probability\n",
        "def regression_away(X,y,x,b):\n",
        "    X_train, X_test, y_train, y_test1 = train_test_split(X, y, test_size=0.2, random_state = 0)\n",
        "    knnreg = KNeighborsRegressor(n_neighbors = 5).fit(X_train, y_train)\n",
        "    error1 = np.sum(abs(knnreg.predict(X_test) - y_test1))\n",
        "\n",
        "    poly = PolynomialFeatures(degree=2)\n",
        "    X_poly = poly.fit_transform(X)\n",
        "    X_train, X_test, y_train, y_test2 = train_test_split(X_poly, y, test_size=0.2, random_state = 0)\n",
        "    linreg = Ridge().fit(X_train, y_train)\n",
        "    error2 = np.sum(abs(linreg.predict(X_test) - y_test2))\n",
        "    \n",
        "    X, y = shuffle(X, y, random_state=0)\n",
        "    if error1['AP'] > error2['AP']:\n",
        "        linreg = Ridge().fit(X, y)\n",
        "        ans = linreg.predict(x)\n",
        "    else:\n",
        "        knnreg = KNeighborsRegressor(n_neighbors = 5).fit(X, y)\n",
        "        ans = knnreg.predict(x)\n",
        "    return float(ans)\n",
        "\n",
        "# Regression of Draw Probability\n",
        "def regression_draw(X,y,x):\n",
        "    X_train, X_test, y_train, y_test1 = train_test_split(X, y, test_size=0.2, random_state = 0)\n",
        "    knnreg = KNeighborsRegressor(n_neighbors = 5).fit(X_train, y_train)\n",
        "    error1 = np.sum(abs(knnreg.predict(X_test) - y_test1))\n",
        "\n",
        "    poly = PolynomialFeatures(degree=2)\n",
        "    X_poly = poly.fit_transform(X)\n",
        "    X_train, X_test, y_train, y_test2 = train_test_split(X_poly, y, test_size=0.2, random_state = 0)\n",
        "    linreg = Ridge().fit(X_train, y_train)\n",
        "    error2 = np.sum(abs(linreg.predict(X_test) - y_test2))\n",
        "    \n",
        "    X, y = shuffle(X, y, random_state=0)\n",
        "    if error1['DP'] > error2['DP']:\n",
        "        linreg = Ridge().fit(X, y)\n",
        "        ans = linreg.predict(x)\n",
        "    else:\n",
        "        knnreg = KNeighborsRegressor(n_neighbors = 5).fit(X, y)\n",
        "        ans = knnreg.predict(x)\n",
        "    return float(ans)"
      ],
      "execution_count": 278,
      "outputs": []
    },
    {
      "cell_type": "markdown",
      "metadata": {
        "id": "sQrljM31kJU5",
        "colab_type": "text"
      },
      "source": [
        "Enter the name of teams "
      ]
    },
    {
      "cell_type": "code",
      "metadata": {
        "id": "5DxASYlV7qVd",
        "colab_type": "code",
        "colab": {
          "base_uri": "https://localhost:8080/",
          "height": 52
        },
        "outputId": "9d99208a-00a2-4d87-f98b-82f3c5a43318"
      },
      "source": [
        "a = input(\"Enter Home Team :\") #Home Team\n",
        "b = input(\"Enter Away Team :\") #Away Team"
      ],
      "execution_count": 269,
      "outputs": [
        {
          "output_type": "stream",
          "text": [
            "Enter Home Team :Chelsea\n",
            "Enter Away Team :Arsenal\n"
          ],
          "name": "stdout"
        }
      ]
    },
    {
      "cell_type": "markdown",
      "metadata": {
        "id": "5XRy3Gwvk3wI",
        "colab_type": "text"
      },
      "source": [
        "Processing of data to get the required features for Prediction of Win Probability"
      ]
    },
    {
      "cell_type": "code",
      "metadata": {
        "id": "nT_Qh2Afryfo",
        "colab_type": "code",
        "colab": {}
      },
      "source": [
        "a_all = team_vs_all(a) # team a vs all other teams data\n",
        "b_all = team_vs_all(b) # team b vs all other team data\n",
        "a_b = a_vs_b(a,b) # team a vs team b data\n",
        "a_home = home_matches(a) # team a all home matches\n",
        "b_home = home_matches(b) # team b all home matches\n",
        "a_away = away_matches(a) # team a all away matches\n",
        "b_away = away_matches(b) # team b all away matches\n",
        "\n",
        "# It takes average of last 6 win valus of team a in the matches team a vs team b\n",
        "values = []\n",
        "list_values = []\n",
        "sum = 0\n",
        "\n",
        "for value in a_b['Win_Value_a']:\n",
        "    values.append(value)\n",
        "\n",
        "for i in range(len(values)):\n",
        "    if i<6:\n",
        "        sum = sum + values[i]\n",
        "        prob = sum / (i+1)\n",
        "    else:\n",
        "        sum = sum + values[i] - values[i-6]\n",
        "        prob = sum / 6\n",
        "    list_values.append(prob) \n",
        "\n",
        "a_b[\"Win_last6_a\"] = list_values\n",
        "\n",
        "# It takes average of last 6 win valus of team b in the matches team a vs team b\n",
        "values = []\n",
        "list_values = []\n",
        "sum = 0\n",
        "\n",
        "for value in a_b['Win_Value_b']:\n",
        "    values.append(value)\n",
        "\n",
        "for i in range(len(values)):\n",
        "    if i<6:\n",
        "        sum = sum + values[i]\n",
        "        prob = sum / (i+1)\n",
        "    else:\n",
        "        sum = sum + values[i] - values[i-6]\n",
        "        prob = sum / 6\n",
        "    list_values.append(prob) \n",
        "\n",
        "a_b[\"Win_last6_b\"] = list_values\n",
        "\n",
        "# Similar as above but average of last 5 home win value of team a \n",
        "values = []\n",
        "list_values = []\n",
        "sum = 0\n",
        "\n",
        "for value in a_home['Home_Win_Value']:\n",
        "    values.append(value)\n",
        "    \n",
        "for i in range(len(values)):\n",
        "    if i<5:\n",
        "        sum = sum + values[i]\n",
        "        prob = sum / (i+1)\n",
        "    else:\n",
        "        sum = sum + values[i] - values[i-5]\n",
        "        prob = sum / 5\n",
        "    list_values.append(prob) \n",
        "\n",
        "a_home[\"Home_Win_Prob\"] = list_values\n",
        "a_home['Home_Win_Prob'] = np.roll(a_home['Home_Win_Prob'], shift=1)\n",
        "\n",
        "# Similar as above but average of last 5 home win value of team b\n",
        "values = []\n",
        "list_values = []\n",
        "sum = 0\n",
        "\n",
        "for value in b_home['Home_Win_Value']:\n",
        "    values.append(value)\n",
        "    \n",
        "for i in range(len(values)):\n",
        "    if i<5:\n",
        "        sum = sum + values[i]\n",
        "        prob = sum / (i+1)\n",
        "    else:\n",
        "        sum = sum + values[i] - values[i-5]\n",
        "        prob = sum / 5\n",
        "    list_values.append(prob) \n",
        "\n",
        "b_home[\"Home_Win_Prob\"] = list_values\n",
        "b_home['Home_Win_Prob'] = np.roll(b_home['Home_Win_Prob'], shift=1)\n",
        "\n",
        "# Similar as above but average of last 5 away win value of team a\n",
        "values = []\n",
        "list_values = []\n",
        "sum = 0\n",
        "\n",
        "for value in a_away['Away_Win_Value']:\n",
        "    values.append(value)\n",
        "    \n",
        "for i in range(len(values)):\n",
        "    if i<5:\n",
        "        sum = sum + values[i]\n",
        "        prob = sum / (i+1)\n",
        "    else:\n",
        "        sum = sum + values[i] - values[i-5]\n",
        "        prob = sum / 5\n",
        "    list_values.append(prob) \n",
        "\n",
        "a_away[\"Away_Win_Prob\"] = list_values\n",
        "a_away['Away_Win_Prob'] = np.roll(a_away['Away_Win_Prob'], shift=1)\n",
        "\n",
        "# Similar as above but average of last 5 away win value of team b\n",
        "values = []\n",
        "list_values = []\n",
        "sum = 0\n",
        "\n",
        "for value in b_away['Away_Win_Value']:\n",
        "    values.append(value)\n",
        "    \n",
        "for i in range(len(values)):\n",
        "    if i<5:\n",
        "        sum = sum + values[i]\n",
        "        prob = sum / (i+1)\n",
        "    else:\n",
        "        sum = sum + values[i] - values[i-5]\n",
        "        prob = sum / 5\n",
        "    list_values.append(prob) \n",
        "\n",
        "b_away[\"Away_Win_Prob\"] = list_values\n",
        "b_away['Away_Win_Prob'] = np.roll(b_away['Away_Win_Prob'], shift=1)\n",
        "\n",
        "# Similar as above but average of last 10 win value of team a vs all teams\n",
        "values = []\n",
        "list_values = []\n",
        "sum = 0\n",
        "\n",
        "for value in a_all['Win_Value']:\n",
        "    values.append(value)\n",
        "    \n",
        "for i in range(len(values)):\n",
        "    if i<10:\n",
        "        sum = sum + values[i]\n",
        "        prob = sum / (i+1)\n",
        "    else:\n",
        "        sum = sum + values[i] - values[i-10]\n",
        "        prob = sum / 10\n",
        "    list_values.append(prob) \n",
        "\n",
        "a_all[\"Win_Prob_Last10_a\"] = list_values\n",
        "a_all['Win_Prob_Last10_a'] = np.roll(a_all['Win_Prob_Last10_a'], shift=1)\n",
        "\n",
        "values = []\n",
        "list_values = []\n",
        "sum = 0\n",
        "\n",
        "for value in a_all['Win_Value']:\n",
        "    values.append(value)\n",
        "    \n",
        "for i in range(len(values)):\n",
        "    if i<5:\n",
        "        sum = sum + values[i]\n",
        "        prob = sum / (i+1)\n",
        "    else:\n",
        "        sum = sum + values[i] - values[i-5]\n",
        "        prob = sum / 5\n",
        "    list_values.append(prob) \n",
        "\n",
        "a_all[\"Win_Prob_Last5_a\"] = list_values\n",
        "a_all['Win_Prob_Last5_a'] = np.roll(a_all['Win_Prob_Last5_a'], shift=1)\n",
        "\n",
        "# Similar as above but average of last 10 win value of team b vs all teams\n",
        "values = []\n",
        "list_values = []\n",
        "sum = 0\n",
        "\n",
        "for value in b_all['Win_Value']:\n",
        "    values.append(value)\n",
        "    \n",
        "for i in range(len(values)):\n",
        "    if i<10:\n",
        "        sum = sum + values[i]\n",
        "        prob = sum / (i+1)\n",
        "    else:\n",
        "        sum = sum + values[i] - values[i-10]\n",
        "        prob = sum / 10\n",
        "    list_values.append(prob) \n",
        "\n",
        "b_all[\"Win_Prob_Last10_b\"] = list_values\n",
        "b_all['Win_Prob_Last10_b'] = np.roll(b_all['Win_Prob_Last10_b'], shift=1)\n",
        "\n",
        "values = []\n",
        "list_values = []\n",
        "sum = 0\n",
        "\n",
        "for value in b_all['Win_Value']:\n",
        "    values.append(value)\n",
        "    \n",
        "for i in range(len(values)):\n",
        "    if i<5:\n",
        "        sum = sum + values[i]\n",
        "        prob = sum / (i+1)\n",
        "    else:\n",
        "        sum = sum + values[i] - values[i-5]\n",
        "        prob = sum / 5\n",
        "    list_values.append(prob) \n",
        "\n",
        "b_all[\"Win_Prob_Last5_b\"] = list_values\n",
        "b_all['Win_Prob_Last5_b'] = np.roll(b_all['Win_Prob_Last5_b'], shift=1)\n",
        "\n",
        "# Take average of Home team Shots/Away Team shots average on target for both teams\n",
        "values = []\n",
        "list_values = []\n",
        "sum = 0\n",
        "\n",
        "for value in b_all['HSTP']:\n",
        "    values.append(value)\n",
        "    \n",
        "for i in range(len(values)):\n",
        "    if i<5:\n",
        "        sum = sum + values[i]\n",
        "        prob = sum / (i+1)\n",
        "    else:\n",
        "        sum = sum + values[i] - values[i-5]\n",
        "        prob = sum / 5\n",
        "    list_values.append(prob) \n",
        "\n",
        "b_all[\"HSTP_avg\"] = list_values\n",
        "b_all['HSTP_avg'] = np.roll(b_all['HSTP_avg'], shift=1)\n",
        "\n",
        "values = []\n",
        "list_values = []\n",
        "sum = 0\n",
        "\n",
        "for value in b_all['ASTP']:\n",
        "    values.append(value)\n",
        "    \n",
        "for i in range(len(values)):\n",
        "    if i<5:\n",
        "        sum = sum + values[i]\n",
        "        prob = sum / (i+1)\n",
        "    else:\n",
        "        sum = sum + values[i] - values[i-5]\n",
        "        prob = sum / 5\n",
        "    list_values.append(prob) \n",
        "\n",
        "b_all[\"ASTP_avg\"] = list_values\n",
        "b_all['ASTP_avg'] = np.roll(b_all['ASTP_avg'], shift=1)\n",
        "\n",
        "values = []\n",
        "list_values = []\n",
        "sum = 0\n",
        "\n",
        "for value in a_all['ASTP']:\n",
        "    values.append(value)\n",
        "    \n",
        "for i in range(len(values)):\n",
        "    if i<5:\n",
        "        sum = sum + values[i]\n",
        "        prob = sum / (i+1)\n",
        "    else:\n",
        "        sum = sum + values[i] - values[i-5]\n",
        "        prob = sum / 5\n",
        "    list_values.append(prob) \n",
        "\n",
        "a_all[\"ASTP_avg\"] = list_values\n",
        "a_all['ASTP_avg'] = np.roll(a_all['ASTP_avg'], shift=1)\n",
        "\n",
        "values = []\n",
        "list_values = []\n",
        "sum = 0\n",
        "\n",
        "for value in a_all['HSTP']:\n",
        "    values.append(value)\n",
        "    \n",
        "for i in range(len(values)):\n",
        "    if i<5:\n",
        "        sum = sum + values[i]\n",
        "        prob = sum / (i+1)\n",
        "    else:\n",
        "        sum = sum + values[i] - values[i-5]\n",
        "        prob = sum / 5\n",
        "    list_values.append(prob) \n",
        "\n",
        "a_all[\"HSTP_avg\"] = list_values\n",
        "a_all['HSTP_avg'] = np.roll(a_all['HSTP_avg'], shift=1)\n"
      ],
      "execution_count": 270,
      "outputs": []
    },
    {
      "cell_type": "markdown",
      "metadata": {
        "id": "DC1ZfFkdlC-_",
        "colab_type": "text"
      },
      "source": [
        "Merging the features with the Dataset"
      ]
    },
    {
      "cell_type": "code",
      "metadata": {
        "id": "6XsARFzj9wT3",
        "colab_type": "code",
        "colab": {}
      },
      "source": [
        "# Merging data set\n",
        "data = pd.merge(a_b,a_home[['Match_Id','Home_Win_Prob']], on='Match_Id',how = 'left')\n",
        "b_home = b_home[['Match_Id','Home_Win_Prob']]\n",
        "data.loc[data.Match_Id.isin(b_home.Match_Id), ['Home_Win_Prob']] = b_home.loc[b_home.Match_Id.isin(data.Match_Id),['Home_Win_Prob']].values\n",
        "\n",
        "data = pd.merge(data,a_away[['Match_Id','Away_Win_Prob']], on='Match_Id',how = 'left')\n",
        "b_away = b_away[['Match_Id','Away_Win_Prob']]\n",
        "data.loc[data.Match_Id.isin(b_away.Match_Id), ['Away_Win_Prob']] = b_away.loc[b_away.Match_Id.isin(data.Match_Id),['Away_Win_Prob']].values\n",
        "\n",
        "data = pd.merge(data,a_all[['Match_Id','ASTP_avg']], on='Match_Id',how = 'left')\n",
        "data.loc[data.Match_Id.isin(b_all.Match_Id), ['ASTP_avg']] = b_all.loc[b_all.Match_Id.isin(data.Match_Id),['ASTP_avg']].values\n",
        "data = pd.merge(data,a_all[['Match_Id','HSTP_avg']], on='Match_Id',how = 'left')\n",
        "data.loc[data.Match_Id.isin(b_all.Match_Id), ['HSTP_avg']] = b_all.loc[b_all.Match_Id.isin(data.Match_Id),['HSTP_avg']].values\n",
        "\n",
        "data = pd.merge(data,a_all[['Match_Id','Win_Prob_Last10_a']], on='Match_Id', how='left')\n",
        "data = pd.merge(data,b_all[['Match_Id','Win_Prob_Last10_b']], on='Match_Id', how='left')\n",
        "data = pd.merge(data,a_all[['Match_Id','Win_Prob_Last5_a']], on='Match_Id', how='left')\n",
        "data = pd.merge(data,b_all[['Match_Id','Win_Prob_Last5_b']], on='Match_Id', how='left')\n",
        "\n",
        "data['Win_last6_a'] = np.roll(data['Win_last6_a'], shift=1)\n",
        "data['Win_last6_b'] = np.roll(data['Win_last6_b'], shift=1)\n",
        "\n",
        "columns = ['Home Team','Away Team', 'Win_last6_a', 'Win_last6_b', 'Home_Win_Prob', 'Away_Win_Prob', 'Win_Prob_Last10_a', 'Win_Prob_Last10_b', 'Win_Prob_Last5_a', 'Win_Prob_Last5_b']\n",
        "x = data[columns]\n",
        "x = x[0:1]\n",
        "x['Home Team'] = 1\n",
        "x['Away Team'] = 0\n",
        "x['Home_Win_Prob'] = a_home.iloc[0]['Home_Win_Prob']\n",
        "x['Away_Win_Prob'] = b_away.iloc[0]['Away_Win_Prob']\n",
        "x['Win_Prob_Last10_a'] = a_all.iloc[0]['Win_Prob_Last10_a']\n",
        "x['Win_Prob_Last5_a'] = a_all.iloc[0]['Win_Prob_Last5_a']\n",
        "x['Win_Prob_Last10_b'] = b_all.iloc[0]['Win_Prob_Last10_b']\n",
        "x['Win_Prob_Last5_b'] = b_all.iloc[0]['Win_Prob_Last5_b']\n",
        "\n",
        "X = data[columns]\n",
        "X = X[2:]\n",
        "\n",
        "data.loc[((data['Home Team'] == 0) & (data['FTR'] == 'H')) | ((data['Away Team'] == 0) & (data['FTR'] == 'A')), 'Win Team'] = 0\n",
        "data.loc[((data['Home Team'] == 1) & (data['FTR'] == 'H')) | ((data['Away Team'] == 1) & (data['FTR'] == 'A')), 'Win Team'] = 1\n",
        "data.loc[(data['FTR'] == 'D'), 'Win Team'] = 2 # Labeled value of draw matches for y column\n",
        "\n",
        "y = data[['Win Team']]\n",
        "y = y[2:]\n",
        "y = y.values.ravel()"
      ],
      "execution_count": 276,
      "outputs": []
    },
    {
      "cell_type": "markdown",
      "metadata": {
        "id": "EGBnsTV8lPrN",
        "colab_type": "text"
      },
      "source": [
        "#####MultiClass Classification (3 classes) \n",
        "######X = Input features dataset\n",
        "######y = Labeled output values\n",
        "######x = The value of features on which we want outcome of prediction algorithm\n",
        "######a = Home Team\n",
        "######b = Away Team"
      ]
    },
    {
      "cell_type": "code",
      "metadata": {
        "id": "I23U1vklGfMq",
        "colab_type": "code",
        "colab": {
          "base_uri": "https://localhost:8080/",
          "height": 52
        },
        "outputId": "fd049f71-fed3-4488-d045-5326e8a1a3d4"
      },
      "source": [
        "multiclassification(X,y,x,a,b)"
      ],
      "execution_count": 277,
      "outputs": [
        {
          "output_type": "stream",
          "text": [
            "Test accuracy : 0.5714285714285714\n",
            "Chelsea Wins\n"
          ],
          "name": "stdout"
        }
      ]
    },
    {
      "cell_type": "markdown",
      "metadata": {
        "id": "TjQjC_z8nGLN",
        "colab_type": "text"
      },
      "source": [
        "Data Manipulation for Win probability prediction"
      ]
    },
    {
      "cell_type": "code",
      "metadata": {
        "id": "X_kNgDHjkuSl",
        "colab_type": "code",
        "colab": {}
      },
      "source": [
        "columns = ['Home Team','Away Team','ASTP_avg','HSTP_avg', 'Win_last6_a', 'Win_last6_b', 'Home_Win_Prob', 'Away_Win_Prob', 'Win_Prob_Last10_a', 'Win_Prob_Last10_b', 'Win_Prob_Last5_a', 'Win_Prob_Last5_b']\n",
        "X = data[columns]\n",
        "X = X[2:]\n",
        "\n",
        "y_hp = data[['HP']]\n",
        "y_hp = y_hp[2:]\n",
        "y_ap = data[['AP']]\n",
        "y_ap = y_ap[2:]\n",
        "y_dp = data[['DP']]\n",
        "y_dp = y_dp[2:]\n",
        "\n",
        "x = data[columns]\n",
        "x = x[0:1]\n",
        "x['Home Team'] = 1\n",
        "x['ASTP_avg'] = b_all.iloc[0]['ASTP_avg']\n",
        "x['HSTP_avg'] = a_all.iloc[0]['HSTP_avg']\n",
        "x['Home_Win_Prob'] = a_home.iloc[0]['Home_Win_Prob']\n",
        "x['Away_Win_Prob'] = b_away.iloc[0]['Away_Win_Prob']\n",
        "x['Win_Prob_Last10_a'] = a_all.iloc[0]['Win_Prob_Last10_a']\n",
        "x['Win_Prob_Last5_a'] = a_all.iloc[0]['Win_Prob_Last5_a']\n",
        "x['Win_Prob_Last10_b'] = b_all.iloc[0]['Win_Prob_Last10_b']\n",
        "x['Win_Prob_Last5_b'] = b_all.iloc[0]['Win_Prob_Last5_b']"
      ],
      "execution_count": 273,
      "outputs": []
    },
    {
      "cell_type": "markdown",
      "metadata": {
        "id": "G00vSu56nOpE",
        "colab_type": "text"
      },
      "source": [
        "#####Below three function provide probability of upcoming a vs b match\n",
        "#####It provides win probability of Team a and Team b and Draw probabilty of the match\n",
        "#####y_hp = Home Win probability from Bet365 data\n",
        "#####y_ap = Away Win probability from Bet365 data\n",
        "#####y_dp = Draw probability from Bet365 data\n",
        "#####X = Input features dataset\n",
        "######x = The value of features on which we want outcome of prediction algorithm\n",
        "#####a = Home Team\n",
        "#####b = Away Team"
      ]
    },
    {
      "cell_type": "code",
      "metadata": {
        "id": "Sv0T_rKDqgLE",
        "colab_type": "code",
        "colab": {
          "base_uri": "https://localhost:8080/",
          "height": 87
        },
        "outputId": "43b48406-d448-48da-f45c-320fa66be19d"
      },
      "source": [
        "home = regression_home(X,y_hp,x,a)\n",
        "print(a,\"Win Probability is\", home)\n",
        "\n",
        "away = regression_away(X,y_ap,x,b)\n",
        "print(b,\"Win Probability is\", away)\n",
        "\n",
        "draw = regression_draw(X,y_dp,x)\n",
        "print(\"Draw Probability is\", draw)\n",
        "\n",
        "if ((draw > away) and (draw > home)):\n",
        "    print(\"Draw\")\n",
        "elif (home > away):\n",
        "    print(a, \"Wins\")\n",
        "else :\n",
        "    print(b, \"Wins\")"
      ],
      "execution_count": 274,
      "outputs": [
        {
          "output_type": "stream",
          "text": [
            "Chelsea Win Probability is 0.45456485743782693\n",
            "Arsenal Win Probability is 0.272447449051066\n",
            "Draw Probability is 0.27298769351110697\n",
            "Chelsea Wins\n"
          ],
          "name": "stdout"
        }
      ]
    }
  ]
}