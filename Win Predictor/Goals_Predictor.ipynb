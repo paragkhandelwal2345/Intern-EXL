{
  "nbformat": 4,
  "nbformat_minor": 0,
  "metadata": {
    "colab": {
      "name": "Goals Predictor.ipynb",
      "provenance": []
    },
    "kernelspec": {
      "name": "python3",
      "display_name": "Python 3"
    }
  },
  "cells": [
    {
      "cell_type": "code",
      "metadata": {
        "id": "WyLLrClfhwqK",
        "colab_type": "code",
        "colab": {
          "resources": {
            "http://localhost:8080/nbextensions/google.colab/files.js": {
              "data": "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",
              "ok": true,
              "headers": [
                [
                  "content-type",
                  "application/javascript"
                ]
              ],
              "status": 200,
              "status_text": ""
            }
          },
          "base_uri": "https://localhost:8080/",
          "height": 73
        },
        "outputId": "fdd755cd-202e-4d24-fa22-49a86785ae63"
      },
      "source": [
        "from google.colab import files\n",
        "uploades = files.upload()"
      ],
      "execution_count": 2,
      "outputs": [
        {
          "output_type": "display_data",
          "data": {
            "text/html": [
              "\n",
              "     <input type=\"file\" id=\"files-1042128b-c59c-4d67-a462-b36b7ac8b86f\" name=\"files[]\" multiple disabled\n",
              "        style=\"border:none\" />\n",
              "     <output id=\"result-1042128b-c59c-4d67-a462-b36b7ac8b86f\">\n",
              "      Upload widget is only available when the cell has been executed in the\n",
              "      current browser session. Please rerun this cell to enable.\n",
              "      </output>\n",
              "      <script src=\"/nbextensions/google.colab/files.js\"></script> "
            ],
            "text/plain": [
              "<IPython.core.display.HTML object>"
            ]
          },
          "metadata": {
            "tags": []
          }
        },
        {
          "output_type": "stream",
          "text": [
            "Saving Total_Data.xlsx to Total_Data.xlsx\n"
          ],
          "name": "stdout"
        }
      ]
    },
    {
      "cell_type": "code",
      "metadata": {
        "id": "fpTNrLIEsuBN",
        "colab_type": "code",
        "colab": {}
      },
      "source": [
        "import numpy as np\n",
        "import pandas as pd\n",
        "from sklearn.model_selection import train_test_split\n",
        "from sklearn.neighbors import KNeighborsClassifier\n",
        "from sklearn.svm import LinearSVC\n",
        "from sklearn.svm import SVC\n",
        "from sklearn.utils import shuffle"
      ],
      "execution_count": 3,
      "outputs": []
    },
    {
      "cell_type": "code",
      "metadata": {
        "id": "rBBNiJvHh3Zm",
        "colab_type": "code",
        "colab": {}
      },
      "source": [
        "df = pd.read_excel('Total_Data.xlsx') "
      ],
      "execution_count": 4,
      "outputs": []
    },
    {
      "cell_type": "code",
      "metadata": {
        "id": "Ss6ZacI_7m9J",
        "colab_type": "code",
        "colab": {}
      },
      "source": [
        "# Gives us the dataframe of team a_vs_team b for all past years\n",
        "def a_vs_b(a,b):\n",
        "    options = [a,b]\n",
        "    a_b = df[df['Home Team'].isin(options)]\n",
        "    a_b = a_b[a_b['Away Team'].isin(options)]\n",
        "    a_b = pd.DataFrame(a_b)\n",
        "\n",
        "    # Home Team(a) value is 1 and away team(b) is 0\n",
        "    a_b.loc[a_b['Home Team'] == a,'Home Team'] = 1 \n",
        "    a_b.loc[a_b['Away Team'] == a,'Away Team'] = 1\n",
        "    a_b.loc[a_b['Home Team'] == b,'Home Team'] = 0\n",
        "    a_b.loc[a_b['Away Team'] == b,'Away Team'] = 0\n",
        "    return a_b\n",
        "\n",
        "# Gives us the dataframe of team_vs_all for all past years\n",
        "def team_vs_all(team):\n",
        "    options = [team]\n",
        "    team_all = df[df['Home Team'].isin(options) | df['Away Team'].isin(options)]\n",
        "\n",
        "    #If team a wins then Win_Value = 1, if loses then 0, if draw then 0.5  \n",
        "    team_all = pd.DataFrame(team_all)\n",
        "    team_all.loc[((team_all['Home Team'] == team) & (team_all['FTR'] == 'H')) | ((team_all['Away Team'] == team) & (team_all['FTR'] == 'A')), 'Win_Value'] = 1\n",
        "    team_all.loc[((team_all['Home Team'] == team) & (team_all['FTR'] == 'A')) | ((team_all['Away Team'] == team) & (team_all['FTR'] == 'H')), 'Win_Value'] = 0\n",
        "    team_all = team_all.fillna(0.5)\n",
        "    return team_all\n",
        "\n",
        "# Gives us the dataframe of all the home matches of a team\n",
        "def home_matches(team):\n",
        "    options = [team]\n",
        "    home_all = df[df['Home Team'].isin(options)]\n",
        "    home_all = pd.DataFrame(home_all)\n",
        "    return home_all\n",
        "\n",
        "# Gives us the dataframe of all the away matches of a team\n",
        "def away_matches(team):\n",
        "    options = [team]\n",
        "    away_all = df[df['Away Team'].isin(options)]\n",
        "    away_all = pd.DataFrame(away_all) \n",
        "    return away_all\n",
        "\n",
        "# Runs different classification algorithm and uses best one to classify the number of goals scored by a team\n",
        "def goals(X,y,x,a):\n",
        "    X_train, X_test, y_train, y_test = train_test_split(X, y, test_size=0.3, random_state=0)\n",
        "\n",
        "    knn = KNeighborsClassifier(n_neighbors = 5)\n",
        "    knn.fit(X_train, y_train)\n",
        "    ans1 = knn.score(X_test,y_test)\n",
        "    p1 = knn.predict(X_test)\n",
        "    \n",
        "    clf = LinearSVC().fit(X_train, y_train)\n",
        "    ans2 = clf.score(X_test,y_test)\n",
        "    p2 = clf.predict(X_test)\n",
        "\n",
        "    rbf = SVC(kernel = 'rbf', gamma = 0.1).fit(X_train, y_train)\n",
        "    ans3 = rbf.score(X_test,y_test)\n",
        "    p3 = rbf.predict(X_test)\n",
        "\n",
        "    X, y = shuffle(X, y, random_state=0)\n",
        "    if ((ans3>ans1) and (ans3>ans2)):\n",
        "        rbf = SVC(kernel = 'rbf', gamma = 0.1).fit(X, y)\n",
        "        print(\"Test accuracy rbf:\", ans3)\n",
        "        ans = rbf.predict(x)\n",
        "        print(\"Prediction : \", p3)\n",
        "    elif ans1>ans2:\n",
        "        knn.fit(X, y)\n",
        "        print(\"Test accuracy knn:\", ans1)\n",
        "        ans = knn.predict(x)\n",
        "        print(\"Prediction : \", p1)\n",
        "    else:\n",
        "        clf = LinearSVC().fit(X, y)\n",
        "        print(\"Test accuracy linearSVC:\", ans2)\n",
        "        ans = clf.predict(x)\n",
        "        print(\"Prediction : \", p2)\n",
        "    print(\"Actual     : \", y_test)\n",
        "    print(a, \"will score\", int(ans), \"goals\")"
      ],
      "execution_count": 5,
      "outputs": []
    },
    {
      "cell_type": "code",
      "metadata": {
        "id": "4C23Ulg98G2z",
        "colab_type": "code",
        "colab": {
          "base_uri": "https://localhost:8080/",
          "height": 52
        },
        "outputId": "b99d247a-24c7-4a0f-da70-52dfd9e21203"
      },
      "source": [
        "a = input(\"Enter Home Team : \")\n",
        "b = input(\"Enter Away Team : \")"
      ],
      "execution_count": 6,
      "outputs": [
        {
          "output_type": "stream",
          "text": [
            "Enter Home Team : Chelsea\n",
            "Enter Away Team : Man City\n"
          ],
          "name": "stdout"
        }
      ]
    },
    {
      "cell_type": "code",
      "metadata": {
        "id": "hxSYDsR4_LKU",
        "colab_type": "code",
        "colab": {}
      },
      "source": [
        "a_all = team_vs_all(a) # team a vs all other teams data\n",
        "b_all = team_vs_all(b) # team b vs all other team data\n",
        "a_b = a_vs_b(a,b) # team a vs team b data\n",
        "a_home = home_matches(a) # team a all home matches\n",
        "b_home = home_matches(b) # team b all home matches\n",
        "a_away = away_matches(a) # team a all away matches\n",
        "b_away = away_matches(b) # team b all away matches"
      ],
      "execution_count": 20,
      "outputs": []
    },
    {
      "cell_type": "markdown",
      "metadata": {
        "id": "WxZWlbDsynZV",
        "colab_type": "text"
      },
      "source": [
        "Pre processing of the data to extract new features "
      ]
    },
    {
      "cell_type": "code",
      "metadata": {
        "id": "WhvFPrjpBza8",
        "colab_type": "code",
        "colab": {}
      },
      "source": [
        "#Foul values of both the teams\n",
        "a_away['a_f'] = a_away['AF']\n",
        "a_home['a_f'] = a_home['HF']\n",
        "b_away['b_f'] = b_away['AF']\n",
        "b_home['b_f'] = b_home['HF']\n",
        "a_b = pd.merge(a_b,a_home[['Match_Id','a_f']], on='Match_Id',how = 'left')\n",
        "a_b.loc[a_b.Match_Id.isin(a_away.Match_Id), ['a_f']] = a_away.loc[a_away.Match_Id.isin(a_b.Match_Id),['a_f']].values\n",
        "a_b = pd.merge(a_b,b_home[['Match_Id','b_f']], on='Match_Id',how = 'left')\n",
        "a_b.loc[a_b.Match_Id.isin(b_away.Match_Id), ['b_f']] = b_away.loc[b_away.Match_Id.isin(a_b.Match_Id),['b_f']].values\n",
        "a_all = pd.merge(a_all,a_home[['Match_Id','a_f']], on='Match_Id',how = 'left')\n",
        "a_all.loc[a_all.Match_Id.isin(a_away.Match_Id), ['a_f']] = a_away.loc[a_away.Match_Id.isin(a_all.Match_Id),['a_f']].values\n",
        "b_all = pd.merge(b_all,b_home[['Match_Id','b_f']], on='Match_Id',how = 'left')\n",
        "b_all.loc[b_all.Match_Id.isin(b_away.Match_Id), ['b_f']] = b_away.loc[b_away.Match_Id.isin(b_all.Match_Id),['b_f']].values\n",
        "\n",
        "#Goals scored values of both the teams\n",
        "a_away['a_goals'] = a_away['FTAG']\n",
        "a_home['a_goals'] = a_home['FTHG']\n",
        "b_away['b_goals'] = b_away['FTAG']\n",
        "b_home['b_goals'] = b_home['FTHG']\n",
        "a_b = pd.merge(a_b,a_home[['Match_Id','a_goals']], on='Match_Id',how = 'left')\n",
        "a_b.loc[a_b.Match_Id.isin(a_away.Match_Id), ['a_goals']] = a_away.loc[a_away.Match_Id.isin(a_b.Match_Id),['a_goals']].values\n",
        "a_b = pd.merge(a_b,b_home[['Match_Id','b_goals']], on='Match_Id',how = 'left')\n",
        "a_b.loc[a_b.Match_Id.isin(b_away.Match_Id), ['b_goals']] = b_away.loc[b_away.Match_Id.isin(a_b.Match_Id),['b_goals']].values\n",
        "a_all = pd.merge(a_all,a_home[['Match_Id','a_goals']], on='Match_Id',how = 'left')\n",
        "a_all.loc[a_all.Match_Id.isin(a_away.Match_Id), ['a_goals']] = a_away.loc[a_away.Match_Id.isin(a_all.Match_Id),['a_goals']].values\n",
        "b_all = pd.merge(b_all,b_home[['Match_Id','b_goals']], on='Match_Id',how = 'left')\n",
        "b_all.loc[b_all.Match_Id.isin(b_away.Match_Id), ['b_goals']] = b_away.loc[b_away.Match_Id.isin(b_all.Match_Id),['b_goals']].values\n",
        "\n",
        "#Number of yellow card values of both the teams\n",
        "a_away['a_y'] = a_away['AY']\n",
        "a_home['a_y'] = a_home['HY']\n",
        "b_away['b_y'] = b_away['AY']\n",
        "b_home['b_y'] = b_home['HY']\n",
        "a_b = pd.merge(a_b,a_home[['Match_Id','a_y']], on='Match_Id',how = 'left')\n",
        "a_b.loc[a_b.Match_Id.isin(a_away.Match_Id), ['a_y']] = a_away.loc[a_away.Match_Id.isin(a_b.Match_Id),['a_y']].values\n",
        "a_b = pd.merge(a_b,b_home[['Match_Id','b_y']], on='Match_Id',how = 'left')\n",
        "a_b.loc[a_b.Match_Id.isin(b_away.Match_Id), ['b_y']] = b_away.loc[b_away.Match_Id.isin(a_b.Match_Id),['b_y']].values\n",
        "a_all = pd.merge(a_all,a_home[['Match_Id','a_y']], on='Match_Id',how = 'left')\n",
        "a_all.loc[a_all.Match_Id.isin(a_away.Match_Id), ['a_y']] = a_away.loc[a_away.Match_Id.isin(a_all.Match_Id),['a_y']].values\n",
        "b_all = pd.merge(b_all,b_home[['Match_Id','b_y']], on='Match_Id',how = 'left')\n",
        "b_all.loc[b_all.Match_Id.isin(b_away.Match_Id), ['b_y']] = b_away.loc[b_away.Match_Id.isin(b_all.Match_Id),['b_y']].values\n",
        "\n",
        "#Number of red card values of both the teams\n",
        "a_away['a_r'] = a_away['AR']\n",
        "a_home['a_r'] = a_home['HR']\n",
        "b_away['b_r'] = b_away['AR']\n",
        "b_home['b_r'] = b_home['HR']\n",
        "a_b = pd.merge(a_b,a_home[['Match_Id','a_r']], on='Match_Id',how = 'left')\n",
        "a_b.loc[a_b.Match_Id.isin(a_away.Match_Id), ['a_r']] = a_away.loc[a_away.Match_Id.isin(a_b.Match_Id),['a_r']].values\n",
        "a_b = pd.merge(a_b,b_home[['Match_Id','b_r']], on='Match_Id',how = 'left')\n",
        "a_b.loc[a_b.Match_Id.isin(b_away.Match_Id), ['b_r']] = b_away.loc[b_away.Match_Id.isin(a_b.Match_Id),['b_r']].values\n",
        "a_all = pd.merge(a_all,a_home[['Match_Id','a_r']], on='Match_Id',how = 'left')\n",
        "a_all.loc[a_all.Match_Id.isin(a_away.Match_Id), ['a_r']] = a_away.loc[a_away.Match_Id.isin(a_all.Match_Id),['a_r']].values\n",
        "b_all = pd.merge(b_all,b_home[['Match_Id','b_r']], on='Match_Id',how = 'left')\n",
        "b_all.loc[b_all.Match_Id.isin(b_away.Match_Id), ['b_r']] = b_away.loc[b_away.Match_Id.isin(b_all.Match_Id),['b_r']].values"
      ],
      "execution_count": 21,
      "outputs": []
    },
    {
      "cell_type": "markdown",
      "metadata": {
        "id": "-Unkv15jzR2L",
        "colab_type": "text"
      },
      "source": [
        "Processing of data to get required features for prediction of number of goals scored"
      ]
    },
    {
      "cell_type": "code",
      "metadata": {
        "id": "aSkWuaywcNvx",
        "colab_type": "code",
        "colab": {}
      },
      "source": [
        "# HSTP and ASTP average of both teams for past 5 matches\n",
        "values = []\n",
        "list_values = []\n",
        "sum = 0\n",
        "\n",
        "for value in b_all['HSTP']:\n",
        "    values.append(value)\n",
        "    \n",
        "for i in range(len(values)):\n",
        "    if i<5:\n",
        "        sum = sum + values[i]\n",
        "        prob = sum / (i+1)\n",
        "    else:\n",
        "        sum = sum + values[i] - values[i-5]\n",
        "        prob = sum / 5\n",
        "    list_values.append(prob) \n",
        "\n",
        "b_all[\"HSTP_avg\"] = list_values\n",
        "b_all['HSTP_avg'] = np.roll(b_all['HSTP_avg'], shift=1)\n",
        "\n",
        "values = []\n",
        "list_values = []\n",
        "sum = 0\n",
        "\n",
        "for value in b_all['ASTP']:\n",
        "    values.append(value)\n",
        "    \n",
        "for i in range(len(values)):\n",
        "    if i<5:\n",
        "        sum = sum + values[i]\n",
        "        prob = sum / (i+1)\n",
        "    else:\n",
        "        sum = sum + values[i] - values[i-5]\n",
        "        prob = sum / 5\n",
        "    list_values.append(prob) \n",
        "\n",
        "b_all[\"ASTP_avg\"] = list_values\n",
        "b_all['ASTP_avg'] = np.roll(b_all['ASTP_avg'], shift=1)\n",
        "\n",
        "values = []\n",
        "list_values = []\n",
        "sum = 0\n",
        "\n",
        "for value in a_all['ASTP']:\n",
        "    values.append(value)\n",
        "    \n",
        "for i in range(len(values)):\n",
        "    if i<5:\n",
        "        sum = sum + values[i]\n",
        "        prob = sum / (i+1)\n",
        "    else:\n",
        "        sum = sum + values[i] - values[i-5]\n",
        "        prob = sum / 5\n",
        "    list_values.append(prob) \n",
        "\n",
        "a_all[\"ASTP_avg\"] = list_values\n",
        "a_all['ASTP_avg'] = np.roll(a_all['ASTP_avg'], shift=1)\n",
        "\n",
        "values = []\n",
        "list_values = []\n",
        "sum = 0\n",
        "\n",
        "for value in a_all['HSTP']:\n",
        "    values.append(value)\n",
        "    \n",
        "for i in range(len(values)):\n",
        "    if i<5:\n",
        "        sum = sum + values[i]\n",
        "        prob = sum / (i+1)\n",
        "    else:\n",
        "        sum = sum + values[i] - values[i-5]\n",
        "        prob = sum / 5\n",
        "    list_values.append(prob) \n",
        "\n",
        "a_all[\"HSTP_avg\"] = list_values\n",
        "a_all['HSTP_avg'] = np.roll(a_all['HSTP_avg'], shift=1)\n",
        "\n",
        "values = []\n",
        "list_values = []\n",
        "sum = 0\n",
        "\n",
        "# Goals scored average of both teams for past 5 matches\n",
        "for value in a_all['a_goals']:\n",
        "    values.append(value)\n",
        "    \n",
        "for i in range(len(values)):\n",
        "    if i<5:\n",
        "        sum = sum + values[i]\n",
        "        prob = sum / (i+1)\n",
        "    else:\n",
        "        sum = sum + values[i] - values[i-5]\n",
        "        prob = sum / 5\n",
        "    list_values.append(prob) \n",
        "\n",
        "a_all[\"a_goals_5\"] = list_values\n",
        "a_all['a_goals_5'] = np.roll(a_all['a_goals_5'], shift=1)\n",
        "\n",
        "values = []\n",
        "list_values = []\n",
        "sum = 0\n",
        "\n",
        "for value in b_all['b_goals']:\n",
        "    values.append(value)\n",
        "    \n",
        "for i in range(len(values)):\n",
        "    if i<5:\n",
        "        sum = sum + values[i]\n",
        "        prob = sum / (i+1)\n",
        "    else:\n",
        "        sum = sum + values[i] - values[i-5]\n",
        "        prob = sum / 5\n",
        "    list_values.append(prob) \n",
        "\n",
        "b_all[\"b_goals_5\"] = list_values\n",
        "b_all['b_goals_5'] = np.roll(b_all['b_goals_5'], shift=1)\n",
        "\n",
        "values = []\n",
        "list_values = []\n",
        "sum = 0\n",
        "\n",
        "# Fouls scored average of both teams for past 5 matches\n",
        "for value in a_all['a_f']:\n",
        "    values.append(value)\n",
        "    \n",
        "for i in range(len(values)):\n",
        "    if i<5:\n",
        "        sum = sum + values[i]\n",
        "        prob = sum / (i+1)\n",
        "    else:\n",
        "        sum = sum + values[i] - values[i-5]\n",
        "        prob = sum / 5\n",
        "    list_values.append(prob) \n",
        "\n",
        "a_all[\"a_f5\"] = list_values\n",
        "a_all['a_f5'] = np.roll(a_all['a_f5'], shift=1)\n",
        "\n",
        "values = []\n",
        "list_values = []\n",
        "sum = 0\n",
        "\n",
        "for value in b_all['b_f']:\n",
        "    values.append(value)\n",
        "    \n",
        "for i in range(len(values)):\n",
        "    if i<5:\n",
        "        sum = sum + values[i]\n",
        "        prob = sum / (i+1)\n",
        "    else:\n",
        "        sum = sum + values[i] - values[i-5]\n",
        "        prob = sum / 5\n",
        "    list_values.append(prob) \n",
        "\n",
        "b_all[\"b_f5\"] = list_values\n",
        "b_all['b_f5'] = np.roll(b_all['b_f5'], shift=1)\n",
        "\n",
        "values = []\n",
        "list_values = []\n",
        "sum = 0\n",
        "\n",
        "# Yellow cards average of both teams for past 5 matches\n",
        "for value in a_all['a_y']:\n",
        "    values.append(value)\n",
        "    \n",
        "for i in range(len(values)):\n",
        "    if i<5:\n",
        "        sum = sum + values[i]\n",
        "        prob = sum / (i+1)\n",
        "    else:\n",
        "        sum = sum + values[i] - values[i-5]\n",
        "        prob = sum / 5\n",
        "    list_values.append(prob) \n",
        "\n",
        "a_all[\"a_y5\"] = list_values\n",
        "a_all['a_y5'] = np.roll(a_all['a_y5'], shift=1)\n",
        "\n",
        "values = []\n",
        "list_values = []\n",
        "sum = 0\n",
        "\n",
        "for value in b_all['b_y']:\n",
        "    values.append(value)\n",
        "    \n",
        "for i in range(len(values)):\n",
        "    if i<5:\n",
        "        sum = sum + values[i]\n",
        "        prob = sum / (i+1)\n",
        "    else:\n",
        "        sum = sum + values[i] - values[i-5]\n",
        "        prob = sum / 5\n",
        "    list_values.append(prob) \n",
        "\n",
        "b_all[\"b_y5\"] = list_values\n",
        "b_all['b_y5'] = np.roll(b_all['b_y5'], shift=1)\n",
        "\n",
        "values = []\n",
        "list_values = []\n",
        "sum = 0\n",
        "\n",
        "# Red Cards average of both teams for past 5 matches\n",
        "for value in a_all['a_r']:\n",
        "    values.append(value)\n",
        "    \n",
        "for i in range(len(values)):\n",
        "    if i<5:\n",
        "        sum = sum + values[i]\n",
        "        prob = sum / (i+1)\n",
        "    else:\n",
        "        sum = sum + values[i] - values[i-5]\n",
        "        prob = sum / 5\n",
        "    list_values.append(prob) \n",
        "\n",
        "a_all[\"a_r5\"] = list_values\n",
        "a_all['a_r5'] = np.roll(a_all['a_r5'], shift=1)\n",
        "\n",
        "values = []\n",
        "list_values = []\n",
        "sum = 0\n",
        "\n",
        "for value in b_all['b_r']:\n",
        "    values.append(value)\n",
        "    \n",
        "for i in range(len(values)):\n",
        "    if i<5:\n",
        "        sum = sum + values[i]\n",
        "        prob = sum / (i+1)\n",
        "    else:\n",
        "        sum = sum + values[i] - values[i-5]\n",
        "        prob = sum / 5\n",
        "    list_values.append(prob) \n",
        "\n",
        "b_all[\"b_r5\"] = list_values\n",
        "b_all['b_r5'] = np.roll(b_all['b_r5'], shift=1)"
      ],
      "execution_count": 22,
      "outputs": []
    },
    {
      "cell_type": "markdown",
      "metadata": {
        "id": "BeIZuIAGzgGL",
        "colab_type": "text"
      },
      "source": [
        "Merging of different features into a single dataset"
      ]
    },
    {
      "cell_type": "code",
      "metadata": {
        "id": "JCW56TSZ9uJE",
        "colab_type": "code",
        "colab": {}
      },
      "source": [
        "data = pd.merge(a_b,a_all[['Match_Id','a_f5']], on='Match_Id', how='left')\n",
        "data = pd.merge(data,b_all[['Match_Id','b_f5']], on='Match_Id', how='left')\n",
        "data = pd.merge(data,a_all[['Match_Id','a_y5']], on='Match_Id', how='left')\n",
        "data = pd.merge(data,b_all[['Match_Id','b_y5']], on='Match_Id', how='left')\n",
        "data = pd.merge(data,a_all[['Match_Id','a_r5']], on='Match_Id', how='left')\n",
        "data = pd.merge(data,b_all[['Match_Id','b_r5']], on='Match_Id', how='left')\n",
        "data = pd.merge(data,a_all[['Match_Id','a_goals_5']], on='Match_Id', how='left')\n",
        "data = pd.merge(data,b_all[['Match_Id','b_goals_5']], on='Match_Id', how='left')\n",
        "\n",
        "data = pd.merge(data,a_all[['Match_Id','ASTP_avg']], on='Match_Id',how = 'left')\n",
        "data.loc[data.Match_Id.isin(b_all.Match_Id), ['ASTP_avg']] = b_all.loc[b_all.Match_Id.isin(data.Match_Id),['ASTP_avg']].values\n",
        "data = pd.merge(data,a_all[['Match_Id','HSTP_avg']], on='Match_Id',how = 'left')\n",
        "data.loc[data.Match_Id.isin(b_all.Match_Id), ['HSTP_avg']] = b_all.loc[b_all.Match_Id.isin(data.Match_Id),['HSTP_avg']].values"
      ],
      "execution_count": 10,
      "outputs": []
    },
    {
      "cell_type": "markdown",
      "metadata": {
        "id": "3oV0dnlzz1eG",
        "colab_type": "text"
      },
      "source": [
        "Data Manipulation\n",
        "#####X = Input Features dataset \n",
        "#####y1 = Goals scored by team a\n",
        "#####y2 - Goals scored by team b\n",
        "#####x = Features on which we want outcome of prediction algorithm"
      ]
    },
    {
      "cell_type": "code",
      "metadata": {
        "id": "1SPQZ4uT_men",
        "colab_type": "code",
        "colab": {}
      },
      "source": [
        "columns = ['Home Team','Away Team','a_goals_5', 'b_goals_5', 'HSTP_avg', 'ASTP_avg', 'a_f5', 'b_f5']\n",
        "x = data[columns]\n",
        "x = x[0:1]\n",
        "x['Home Team'] = 1\n",
        "x['Away Team'] = 0\n",
        "x['a_f5'] = a_all.iloc[0]['a_f5']\n",
        "x['b_f5'] = b_all.iloc[0]['b_f5']\n",
        "x['a_goals_5'] = a_all.iloc[0]['a_goals_5']\n",
        "x['b_goals_5'] = b_all.iloc[0]['b_goals_5']\n",
        "x['HSTP_avg'] = a_all.iloc[0]['HSTP_avg']\n",
        "x['ASTP_avg'] = b_all.iloc[0]['ASTP_avg']\n",
        "\n",
        "X = data[columns]\n",
        "X = X[2:]\n",
        "\n",
        "y1 = data[['a_goals']]\n",
        "y1 = y1[2:]\n",
        "y1 = y1.values.ravel()\n",
        "\n",
        "y2 = data[['b_goals']]\n",
        "y2 = y2[2:]\n",
        "y2 = y2.values.ravel()"
      ],
      "execution_count": 11,
      "outputs": []
    },
    {
      "cell_type": "code",
      "metadata": {
        "id": "mbeWrcVz8GT4",
        "colab_type": "code",
        "colab": {
          "base_uri": "https://localhost:8080/",
          "height": 156
        },
        "outputId": "6a5d27be-76bd-4d78-b14e-c2ae0ec5b15f"
      },
      "source": [
        "goals(X,y1,x,a)"
      ],
      "execution_count": 13,
      "outputs": [
        {
          "output_type": "stream",
          "text": [
            "Test accuracy linearSVC: 0.5\n",
            "Prediction :  [2. 0. 0. 1. 0. 0. 0. 6. 1. 0.]\n",
            "Actual     :  [2. 0. 1. 1. 0. 2. 2. 0. 1. 2.]\n",
            "Chelsea will score 2 goals\n"
          ],
          "name": "stdout"
        },
        {
          "output_type": "stream",
          "text": [
            "/usr/local/lib/python3.6/dist-packages/sklearn/svm/_base.py:947: ConvergenceWarning: Liblinear failed to converge, increase the number of iterations.\n",
            "  \"the number of iterations.\", ConvergenceWarning)\n",
            "/usr/local/lib/python3.6/dist-packages/sklearn/svm/_base.py:947: ConvergenceWarning: Liblinear failed to converge, increase the number of iterations.\n",
            "  \"the number of iterations.\", ConvergenceWarning)\n"
          ],
          "name": "stderr"
        }
      ]
    },
    {
      "cell_type": "code",
      "metadata": {
        "id": "t6pm1rSH8JyX",
        "colab_type": "code",
        "colab": {
          "base_uri": "https://localhost:8080/",
          "height": 121
        },
        "outputId": "150ba914-14b5-4aaa-978c-f72b02df108a"
      },
      "source": [
        "goals(X,y2,x,b)"
      ],
      "execution_count": 14,
      "outputs": [
        {
          "output_type": "stream",
          "text": [
            "Test accuracy knn: 0.6\n",
            "Prediction :  [0. 0. 0. 0. 0. 1. 1. 1. 1. 0.]\n",
            "Actual     :  [4. 3. 2. 0. 0. 1. 0. 1. 1. 0.]\n",
            "Man City will score 1 goals\n"
          ],
          "name": "stdout"
        },
        {
          "output_type": "stream",
          "text": [
            "/usr/local/lib/python3.6/dist-packages/sklearn/svm/_base.py:947: ConvergenceWarning: Liblinear failed to converge, increase the number of iterations.\n",
            "  \"the number of iterations.\", ConvergenceWarning)\n"
          ],
          "name": "stderr"
        }
      ]
    }
  ]
}